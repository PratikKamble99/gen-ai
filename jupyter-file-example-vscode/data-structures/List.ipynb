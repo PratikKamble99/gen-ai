{
 "cells": [
  {
   "cell_type": "code",
   "execution_count": 1,
   "id": "c0cd9329",
   "metadata": {},
   "outputs": [
    {
     "data": {
      "text/plain": [
       "list"
      ]
     },
     "execution_count": 1,
     "metadata": {},
     "output_type": "execute_result"
    }
   ],
   "source": [
    "l = [2]\n",
    "\n",
    "type(l)"
   ]
  },
  {
   "cell_type": "markdown",
   "id": "a715b474",
   "metadata": {},
   "source": []
  },
  {
   "cell_type": "markdown",
   "id": "cc0c5343",
   "metadata": {},
   "source": [
    "### List Methods"
   ]
  },
  {
   "cell_type": "code",
   "execution_count": null,
   "id": "32b63b2b",
   "metadata": {},
   "outputs": [
    {
     "name": "stdout",
     "output_type": "stream",
     "text": [
      "['Apple', 'watermilon', 'banana', 'kiwi', 'Guawa']\n",
      "None\n"
     ]
    }
   ],
   "source": [
    "fruits = ['Apple', 'banana', 'kiwi']\n",
    "\n",
    "# Add item at the end\n",
    "fruits.append(\"Guawa\")\n",
    "\n",
    "# insert at the index\n",
    "fruits.insert(1, 'watermilon')\n",
    "\n",
    "print(fruits)\n"
   ]
  },
  {
   "cell_type": "code",
   "execution_count": null,
   "id": "d08e24c4",
   "metadata": {},
   "outputs": [
    {
     "name": "stdout",
     "output_type": "stream",
     "text": [
      "Guawa\n"
     ]
    }
   ],
   "source": [
    "# remove value\n",
    "# fruits.remove(\"banana\")\n",
    "\n",
    "# remove last item and return \n",
    "popped_item = fruits.pop()\n",
    "print(popped_item)"
   ]
  },
  {
   "cell_type": "code",
   "execution_count": 14,
   "id": "b7237003",
   "metadata": {},
   "outputs": [
    {
     "data": {
      "text/plain": [
       "1"
      ]
     },
     "execution_count": 14,
     "metadata": {},
     "output_type": "execute_result"
    }
   ],
   "source": [
    "# return index of value\n",
    "fruits.index('banana')\n",
    "\n",
    "# return count of values\n",
    "fruits.count('banana')\n"
   ]
  },
  {
   "cell_type": "code",
   "execution_count": null,
   "id": "39648502",
   "metadata": {},
   "outputs": [
    {
     "name": "stdout",
     "output_type": "stream",
     "text": [
      "['watermilon', 'kiwi', 'banana', 'Apple']\n"
     ]
    }
   ],
   "source": [
    "# sort the list\n",
    "fruits.sort()\n",
    "\n",
    "# revers the list\n",
    "fruits.reverse()\n",
    "print(fruits)"
   ]
  },
  {
   "cell_type": "code",
   "execution_count": null,
   "id": "eea0e1e6",
   "metadata": {},
   "outputs": [],
   "source": [
    "# remove all items\n",
    "fruits.clear()"
   ]
  },
  {
   "cell_type": "code",
   "execution_count": null,
   "id": "f027e515",
   "metadata": {},
   "outputs": [
    {
     "name": "stdout",
     "output_type": "stream",
     "text": [
      "[2, 3, 4, 5]\n",
      "[2, 3, 4, 5, 6, 7, 8]\n",
      "[1, 3, 5, 7]\n",
      "[8, 7, 6, 5, 4, 3, 2, 1]\n"
     ]
    }
   ],
   "source": [
    "# slicing \n",
    "numbers = [1, 2, 3, 4 ,5, 6, 7, 8]\n",
    "print(numbers[1:5]) # from index 1 to 4 ( 5 excluded )\n",
    "print(numbers[1:]) # from index 1 to end\n",
    "print(numbers[::2]) # :: means step size -> it will step 2 items and print\n",
    "print(numbers[::-1]) # will revers and make step"
   ]
  },
  {
   "cell_type": "code",
   "execution_count": 33,
   "id": "ae52bbc0",
   "metadata": {},
   "outputs": [
    {
     "name": "stdout",
     "output_type": "stream",
     "text": [
      "1\n",
      "2\n",
      "3\n",
      "4\n"
     ]
    },
    {
     "ename": "TypeError",
     "evalue": "'int' object is not iterable",
     "output_type": "error",
     "traceback": [
      "\u001b[0;31m---------------------------------------------------------------------------\u001b[0m",
      "\u001b[0;31mTypeError\u001b[0m                                 Traceback (most recent call last)",
      "Cell \u001b[0;32mIn[33], line 6\u001b[0m\n\u001b[1;32m      3\u001b[0m     \u001b[38;5;28mprint\u001b[39m(number)\n\u001b[1;32m      5\u001b[0m \u001b[38;5;66;03m# if you want index you can use enumerate\u001b[39;00m\n\u001b[0;32m----> 6\u001b[0m \u001b[38;5;28;01mfor\u001b[39;00m index, number \u001b[38;5;129;01min\u001b[39;00m \u001b[38;5;28menumerate\u001b[39m(number):\n\u001b[1;32m      7\u001b[0m     \u001b[38;5;28mprint\u001b[39m(index, number)\n",
      "\u001b[0;31mTypeError\u001b[0m: 'int' object is not iterable"
     ]
    }
   ],
   "source": [
    "# iterating on list\n",
    "for number in numbers:\n",
    "    print(number)\n",
    "\n",
    "# if you want index you can use enumerate\n",
    "for index, number in enumerate(number):\n",
    "    print(index, number)"
   ]
  },
  {
   "cell_type": "code",
   "execution_count": 31,
   "id": "b7a6c907",
   "metadata": {},
   "outputs": [
    {
     "name": "stdout",
     "output_type": "stream",
     "text": [
      "[1, 4, 9, 16]\n",
      "[2, 4]\n",
      "[[1, 'a'], [1, 'b'], [1, 'c'], [1, 'd'], [2, 'a'], [2, 'b'], [2, 'c'], [2, 'd'], [3, 'a'], [3, 'b'], [3, 'c'], [3, 'd'], [4, 'a'], [4, 'b'], [4, 'c'], [4, 'd']]\n",
      "[4, 3]\n"
     ]
    }
   ],
   "source": [
    "# List comprehension\n",
    "\n",
    "numbers = [1, 2, 3, 4]\n",
    "chars = ['a', 'b', 'c', 'd']\n",
    "\n",
    "square = [ x**2 for x in numbers]\n",
    "print(square)\n",
    "\n",
    "even = [ x for x in numbers if x%2==0]\n",
    "print(even)\n",
    "\n",
    "pairs = [[i,j] for i in numbers for j in chars]\n",
    "print(pairs)\n",
    "\n",
    "words = ['qqqq', 'wed']\n",
    "\n",
    "lengths_of_words = [len(i) for i in words]\n",
    "print(lengths_of_words)"
   ]
  }
 ],
 "metadata": {
  "kernelspec": {
   "display_name": "base",
   "language": "python",
   "name": "python3"
  },
  "language_info": {
   "codemirror_mode": {
    "name": "ipython",
    "version": 3
   },
   "file_extension": ".py",
   "mimetype": "text/x-python",
   "name": "python",
   "nbconvert_exporter": "python",
   "pygments_lexer": "ipython3",
   "version": "3.12.7"
  }
 },
 "nbformat": 4,
 "nbformat_minor": 5
}
