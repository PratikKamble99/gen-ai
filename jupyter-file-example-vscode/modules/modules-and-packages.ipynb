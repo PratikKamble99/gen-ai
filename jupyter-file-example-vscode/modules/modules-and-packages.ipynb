{
 "cells": [
  {
   "cell_type": "markdown",
   "id": "d36064db",
   "metadata": {},
   "source": [
    "### Modules and Packages\n"
   ]
  },
  {
   "cell_type": "markdown",
   "id": "d49d8e7e",
   "metadata": {},
   "source": []
  },
  {
   "cell_type": "code",
   "execution_count": null,
   "id": "0f666bcf",
   "metadata": {},
   "outputs": [
    {
     "name": "stdout",
     "output_type": "stream",
     "text": [
      "3.141592653589793\n"
     ]
    }
   ],
   "source": [
    "import math\n",
    "math.sqrt(4)\n",
    "\n",
    "# You can import specific function\n",
    "from math import pi\n",
    "print(pi)"
   ]
  },
  {
   "cell_type": "code",
   "execution_count": null,
   "id": "1c7088d4",
   "metadata": {},
   "outputs": [
    {
     "data": {
      "text/plain": [
       "array([1, 2])"
      ]
     },
     "execution_count": 5,
     "metadata": {},
     "output_type": "execute_result"
    }
   ],
   "source": [
    "# import numpy as np # this is alice for numpy package\n",
    "# np.array([1, 2, 4, 5, 6])\n",
    "\n",
    "from numpy import * # this way you can inport all packages and use directaly in project\n",
    "array([1, 2])"
   ]
  },
  {
   "cell_type": "code",
   "execution_count": 6,
   "id": "4a32c26e",
   "metadata": {},
   "outputs": [
    {
     "data": {
      "text/plain": [
       "10"
      ]
     },
     "execution_count": 6,
     "metadata": {},
     "output_type": "execute_result"
    }
   ],
   "source": [
    "# this way you can import your custom packages\n",
    "\n",
    "from packages.add import addition\n",
    "addition(2, 3)\n",
    "\n",
    "# from packages.subpackages import mult\n",
    "from packages import subpackages\n",
    "subpackages.mult.multiply(5, 2)"
   ]
  },
  {
   "cell_type": "code",
   "execution_count": null,
   "id": "f91074df",
   "metadata": {},
   "outputs": [],
   "source": []
  }
 ],
 "metadata": {
  "kernelspec": {
   "display_name": "base",
   "language": "python",
   "name": "python3"
  },
  "language_info": {
   "codemirror_mode": {
    "name": "ipython",
    "version": 3
   },
   "file_extension": ".py",
   "mimetype": "text/x-python",
   "name": "python",
   "nbconvert_exporter": "python",
   "pygments_lexer": "ipython3",
   "version": "3.12.7"
  }
 },
 "nbformat": 4,
 "nbformat_minor": 5
}
