{
 "cells": [
  {
   "cell_type": "markdown",
   "id": "166a6acf",
   "metadata": {},
   "source": [
    "### Dictionary contains key value pairs \n",
    "#### it is mutable data structure"
   ]
  },
  {
   "cell_type": "code",
   "execution_count": 6,
   "id": "ad38e748",
   "metadata": {},
   "outputs": [
    {
     "name": "stdout",
     "output_type": "stream",
     "text": [
      "<class 'dict'>\n",
      "{'name': 'pratik', 'age': 20}\n"
     ]
    }
   ],
   "source": [
    "\n",
    "dict1 = {\"name\":'pratik', \"age\":20}\n",
    "print(type(dict1))\n",
    "print(dict1)"
   ]
  },
  {
   "cell_type": "code",
   "execution_count": 13,
   "id": "2098518e",
   "metadata": {},
   "outputs": [
    {
     "name": "stdout",
     "output_type": "stream",
     "text": [
      "{'name': 'hjska', 'age': 20}\n",
      "hjska\n",
      "hjska\n",
      "Not available\n"
     ]
    }
   ],
   "source": [
    "# get differnt behavior\n",
    "students = {\"name\":'pratik', 'age': 20, \"name\": \"hjska\"} # second time name will override fist name 'pratik'\n",
    "print(students)\n",
    "\n",
    "# Accessing value\n",
    "print(students[\"name\"])\n",
    "print(students.get('name')) # using get method\n",
    "print(students.get('first_name', 'Not available')) # if key is not present then it retsurns provided text as second parameter by default None"
   ]
  },
  {
   "cell_type": "code",
   "execution_count": 16,
   "id": "5d4e026c",
   "metadata": {},
   "outputs": [
    {
     "name": "stdout",
     "output_type": "stream",
     "text": [
      "{'name': 'pratik', 'age': 25, 'grade': '12th'}\n",
      "{'name': 'pratik', 'age': 25}\n"
     ]
    }
   ],
   "source": [
    "# modifying dictionary\n",
    "\n",
    "students = {'name': 'pratik', 'age': 20}\n",
    "\n",
    "# insert\n",
    "students['grade'] = '12th'\n",
    "\n",
    "\n",
    "# update \n",
    "students['age'] = 25\n",
    "print(students)\n",
    "\n",
    "# delete\n",
    "del students['grade']\n",
    "print(students)\n"
   ]
  },
  {
   "cell_type": "code",
   "execution_count": 17,
   "id": "f95894ee",
   "metadata": {},
   "outputs": [
    {
     "name": "stdout",
     "output_type": "stream",
     "text": [
      "dict_keys(['name', 'age'])\n",
      "dict_values(['pratik', 25])\n",
      "dict_items([('name', 'pratik'), ('age', 25)])\n"
     ]
    }
   ],
   "source": [
    "# dictionary methods\n",
    "keys = students.keys()\n",
    "print(keys)\n",
    "\n",
    "values = students.values()\n",
    "print(values)\n",
    "\n",
    "key_values = students.items()\n",
    "print(key_values)"
   ]
  },
  {
   "cell_type": "code",
   "execution_count": null,
   "id": "b3e77d4d",
   "metadata": {},
   "outputs": [],
   "source": [
    "# deep copy\n",
    "deep = students\n",
    "\n",
    "# shallow copy\n",
    "copy = students.copy()\n"
   ]
  },
  {
   "cell_type": "code",
   "execution_count": 26,
   "id": "c9b637a6",
   "metadata": {},
   "outputs": [
    {
     "name": "stdout",
     "output_type": "stream",
     "text": [
      "student_1\n",
      "student_2\n",
      "-----------\n",
      "{'name': 'pratik', 'age': 20}\n",
      "{'name': 'Pratik_2', 'age': 28}\n",
      "-----------\n",
      "student_1\n",
      "name:pratik\n",
      "age:20\n",
      "student_2\n",
      "name:Pratik_2\n",
      "age:28\n"
     ]
    }
   ],
   "source": [
    "# Iterating over dictionaries\n",
    "students = {\n",
    "    \"student_1\":{\n",
    "        \"name\": \"pratik\",\n",
    "        \"age\": 20\n",
    "    },\n",
    "    \"student_2\":{\n",
    "        'name': 'Pratik_2',\n",
    "        'age': 28\n",
    "    }\n",
    "}\n",
    "\n",
    "for key in students.keys():\n",
    "    print(key)\n",
    "\n",
    "print('-----------')\n",
    "\n",
    "for value in students.values():\n",
    "    print(value)\n",
    "\n",
    "print('-----------')\n",
    "\n",
    "for key, student_info in students.items():\n",
    "    print(f\"{key}\")\n",
    "    for key_2,student in student_info.items():\n",
    "        print(f\"{key_2}:{student}\")"
   ]
  },
  {
   "cell_type": "code",
   "execution_count": 36,
   "id": "72c0177d",
   "metadata": {},
   "outputs": [
    {
     "name": "stdout",
     "output_type": "stream",
     "text": [
      "{1: 1, 2: 4, 3: 9, 4: 16, 5: 25, 6: 36, 7: 49, 8: 64, 9: 81}\n",
      "{1: 1, 3: 3, 5: 5, 7: 7, 9: 9}\n"
     ]
    }
   ],
   "source": [
    "# Dictionary comprehension\n",
    "squares = {x:x*x for x in range(1, 10)}\n",
    "print(squares)\n",
    "\n",
    "even = {x:x for x in range(1, 10) if x%2!=0}\n",
    "print(even)\n",
    "\n"
   ]
  },
  {
   "cell_type": "code",
   "execution_count": null,
   "id": "c44721e0",
   "metadata": {},
   "outputs": [],
   "source": []
  }
 ],
 "metadata": {
  "kernelspec": {
   "display_name": "base",
   "language": "python",
   "name": "python3"
  },
  "language_info": {
   "codemirror_mode": {
    "name": "ipython",
    "version": 3
   },
   "file_extension": ".py",
   "mimetype": "text/x-python",
   "name": "python",
   "nbconvert_exporter": "python",
   "pygments_lexer": "ipython3",
   "version": "3.12.7"
  }
 },
 "nbformat": 4,
 "nbformat_minor": 5
}
