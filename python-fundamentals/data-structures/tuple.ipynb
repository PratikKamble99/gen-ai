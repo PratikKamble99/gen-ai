{
 "cells": [
  {
   "cell_type": "markdown",
   "id": "b0de5dfc",
   "metadata": {},
   "source": [
    "### Tuple\n",
    "Tuple is immutable data structure\n",
    "\n",
    "All list method get applied including slicing to tuple except insert, update and remove\n"
   ]
  },
  {
   "cell_type": "code",
   "execution_count": 4,
   "id": "0120eb33",
   "metadata": {},
   "outputs": [
    {
     "data": {
      "text/plain": [
       "tuple"
      ]
     },
     "execution_count": 4,
     "metadata": {},
     "output_type": "execute_result"
    }
   ],
   "source": [
    "# tuple creation\n",
    "tpl = (1, 2, 3, 4)\n",
    "tpl1 = tuple() # create empty tuple\n",
    "\n",
    "type(tpl1)\n"
   ]
  },
  {
   "cell_type": "code",
   "execution_count": 7,
   "id": "f544f28b",
   "metadata": {},
   "outputs": [
    {
     "name": "stdout",
     "output_type": "stream",
     "text": [
      "2\n",
      "1\n"
     ]
    }
   ],
   "source": [
    "# tuple methods\n",
    "tpl = (1, 2, 3, 4, 5, 2)\n",
    "\n",
    "print(tpl.count(2))\n",
    "print(tpl.index(2))"
   ]
  },
  {
   "cell_type": "code",
   "execution_count": 10,
   "id": "4812d063",
   "metadata": {},
   "outputs": [
    {
     "name": "stdout",
     "output_type": "stream",
     "text": [
      "(1, 2.5, 'hello', True)\n",
      "1 2.5 hello True\n",
      "1\n",
      "[2.5, 'hello']\n",
      "True\n"
     ]
    }
   ],
   "source": [
    "# packing of tuple - It means single value gets packed together\n",
    "tpl1 = 1, 2.5, \"hello\", True\n",
    "\n",
    "print(tpl1)\n",
    "\n",
    "# unpacking \n",
    "a, b, c, d = tpl1\n",
    "print(a, b, c, d)\n",
    "\n",
    "# unpacking with *\n",
    "start, *middle, last = tpl1\n",
    "print(start) # first ele gets store in start\n",
    "print(middle) # rest of the elements gets store in middle\n",
    "print(last) # last ele gets store in last"
   ]
  },
  {
   "cell_type": "code",
   "execution_count": 19,
   "id": "75d9733d",
   "metadata": {},
   "outputs": [
    {
     "data": {
      "text/plain": [
       "(44, 45)"
      ]
     },
     "execution_count": 19,
     "metadata": {},
     "output_type": "execute_result"
    }
   ],
   "source": [
    "# nested tuple and list \n",
    "nested_lst = [[1, 2, 3], [4, 5 , 6], [7, 8, 9]]\n",
    "nested_tlp = ((11, 22, 33),(66, 77, 88),(43, 44, 45))\n",
    "\n",
    "# slicing and searching same with as normal list and tuple\n",
    "nested_tlp[0][2]\n",
    "nested_tlp[2][1:]\n"
   ]
  },
  {
   "cell_type": "code",
   "execution_count": null,
   "id": "396741b4",
   "metadata": {},
   "outputs": [],
   "source": []
  }
 ],
 "metadata": {
  "kernelspec": {
   "display_name": "base",
   "language": "python",
   "name": "python3"
  },
  "language_info": {
   "codemirror_mode": {
    "name": "ipython",
    "version": 3
   },
   "file_extension": ".py",
   "mimetype": "text/x-python",
   "name": "python",
   "nbconvert_exporter": "python",
   "pygments_lexer": "ipython3",
   "version": "3.12.7"
  }
 },
 "nbformat": 4,
 "nbformat_minor": 5
}
