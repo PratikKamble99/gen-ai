{
 "cells": [
  {
   "cell_type": "markdown",
   "id": "453bbb43",
   "metadata": {},
   "source": [
    "### Standard Libraries"
   ]
  },
  {
   "cell_type": "code",
   "execution_count": 2,
   "id": "6255b7b8",
   "metadata": {},
   "outputs": [
    {
     "name": "stdout",
     "output_type": "stream",
     "text": [
      "array('i', [1, 2, 3, 4])\n"
     ]
    }
   ],
   "source": [
    "import array\n",
    "\n",
    "\n",
    "arr = array.array('i',[1, 2, 3, 4])\n",
    "print(arr)"
   ]
  },
  {
   "cell_type": "code",
   "execution_count": 8,
   "id": "e908de0d",
   "metadata": {},
   "outputs": [
    {
     "name": "stdout",
     "output_type": "stream",
     "text": [
      "1\n",
      "apple\n"
     ]
    }
   ],
   "source": [
    "import random\n",
    "\n",
    "num = random.randint(1, 20)\n",
    "fruit = random.choice(['apple', 'banana', 'grapes'])\n",
    "\n",
    "print(num)\n",
    "print(fruit)"
   ]
  },
  {
   "cell_type": "code",
   "execution_count": null,
   "id": "3788c89b",
   "metadata": {},
   "outputs": [],
   "source": [
    "import os\n",
    "\n",
    "os.getcwd()\n",
    "# os.mkdir('test-dir')\n",
    "# os.mknod('test.txt') # macOS does not allow os.mknod() for regular users even for regular files — it's restricted.\n",
    "\n",
    "# open:- No root access needed, and it's cross-platform (Windows/Linux/macOS).\n",
    "\n",
    "with open('test.txt', 'w') as f:\n",
    "    pass"
   ]
  },
  {
   "cell_type": "code",
   "execution_count": 13,
   "id": "f9e9a491",
   "metadata": {},
   "outputs": [
    {
     "data": {
      "text/plain": [
       "'dest.txt'"
      ]
     },
     "execution_count": 13,
     "metadata": {},
     "output_type": "execute_result"
    }
   ],
   "source": [
    "# high level operations on files and collection \n",
    "import shutil\n",
    "shutil.copy('source.txt','dest.txt')"
   ]
  },
  {
   "cell_type": "code",
   "execution_count": null,
   "id": "6808abeb",
   "metadata": {},
   "outputs": [
    {
     "name": "stdout",
     "output_type": "stream",
     "text": [
      "{\"name\": \"pratik\", \"age\": 28}  <class 'str'>\n",
      "{'name': 'pratik', 'age': 28}\n"
     ]
    }
   ],
   "source": [
    "# Data serialisation \n",
    "import json \n",
    "\n",
    "dict = {'name': 'pratik', \"age\":28}\n",
    "\n",
    "json_str = json.dumps(dict) # same as JSON.stringify() in Javascript\n",
    "print(json_str, '', type(json_str))\n",
    "\n",
    "parced_json = json.loads(json_str) # same as JSON.parse() in JS: convert into dict\n",
    "print(parced_json)"
   ]
  },
  {
   "cell_type": "code",
   "execution_count": null,
   "id": "4e555ad1",
   "metadata": {},
   "outputs": [
    {
     "name": "stdout",
     "output_type": "stream",
     "text": [
      "['name', 'Pratik']\n",
      "['age', '28']\n"
     ]
    }
   ],
   "source": [
    "# CSV library\n",
    "import csv\n",
    "\n",
    "with open('example.csv', mode='w') as file: # open file in write mode\n",
    "    writer = csv.writer(file)\n",
    "    writer.writerow(['name','Pratik'])\n",
    "    writer.writerow(['age',28])\n",
    "\n",
    "with open('example.csv', mode='r') as file: # open file in read mode\n",
    "    reader = csv.reader(file)\n",
    "    for row in reader:\n",
    "        print(row)"
   ]
  },
  {
   "cell_type": "code",
   "execution_count": 25,
   "id": "67ebcb15",
   "metadata": {},
   "outputs": [
    {
     "name": "stdout",
     "output_type": "stream",
     "text": [
      "2025-07-13 12:27:33.154228\n",
      "2025-07-12 12:27:33.154228\n"
     ]
    }
   ],
   "source": [
    "# daetime\n",
    "from datetime import datetime, timedelta\n",
    "now =  datetime.now()\n",
    "print(now)\n",
    "\n",
    "yesterday = now - timedelta(days=1)\n",
    "print(yesterday)"
   ]
  },
  {
   "cell_type": "code",
   "execution_count": null,
   "id": "f4e3854d",
   "metadata": {},
   "outputs": [
    {
     "name": "stdout",
     "output_type": "stream",
     "text": [
      "1752389921.777399\n",
      "1752389923.782731\n"
     ]
    }
   ],
   "source": [
    "# time\n",
    "import time\n",
    "print(time.time())\n",
    "time.sleep(2) # sleep(): It pauses the execution of the program for <duration> seconds.\n",
    "print(time.time())"
   ]
  },
  {
   "cell_type": "code",
   "execution_count": 35,
   "id": "3feaa668",
   "metadata": {},
   "outputs": [
    {
     "name": "stdout",
     "output_type": "stream",
     "text": [
      "123\n"
     ]
    }
   ],
   "source": [
    "# Regular Expressions\n",
    "import re\n",
    "\n",
    "pattern = r'\\d+'\n",
    "text = 'There are 123 persons'\n",
    "\n",
    "match = re.search(pattern, text)\n",
    "\n",
    "print(match.group())\n"
   ]
  },
  {
   "cell_type": "code",
   "execution_count": null,
   "id": "ea096793",
   "metadata": {},
   "outputs": [],
   "source": []
  }
 ],
 "metadata": {
  "kernelspec": {
   "display_name": "venv",
   "language": "python",
   "name": "python3"
  },
  "language_info": {
   "codemirror_mode": {
    "name": "ipython",
    "version": 3
   },
   "file_extension": ".py",
   "mimetype": "text/x-python",
   "name": "python",
   "nbconvert_exporter": "python",
   "pygments_lexer": "ipython3",
   "version": "3.11.13"
  }
 },
 "nbformat": 4,
 "nbformat_minor": 5
}
