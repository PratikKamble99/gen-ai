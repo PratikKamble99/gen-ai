{
 "cells": [
  {
   "cell_type": "markdown",
   "id": "91806a5a",
   "metadata": {},
   "source": [
    "### FUNCTIONS\n",
    "Block of code that performs task\n"
   ]
  },
  {
   "cell_type": "markdown",
   "id": "7fb10e0f",
   "metadata": {},
   "source": []
  },
  {
   "cell_type": "code",
   "execution_count": 1,
   "id": "6a64b114",
   "metadata": {},
   "outputs": [
    {
     "data": {
      "text/plain": [
       "3"
      ]
     },
     "execution_count": 1,
     "metadata": {},
     "output_type": "execute_result"
    }
   ],
   "source": [
    "## Syntax\n",
    "def add(a, b):\n",
    "    \"\"\" this used to write fuction description as comment. And this called Docstring\"\"\"\n",
    "    return a+b # return a+b result \n",
    "\n",
    "add(1, 2) # calling functions"
   ]
  },
  {
   "cell_type": "code",
   "execution_count": 6,
   "id": "cced12fc",
   "metadata": {},
   "outputs": [
    {
     "name": "stdout",
     "output_type": "stream",
     "text": [
      "Hello World\n",
      "Hello Pratik\n"
     ]
    }
   ],
   "source": [
    "## Default parameters\n",
    "def greet(name='World'): # this called default argument value\n",
    "    print('Hello '+name)\n",
    "\n",
    "greet()\n",
    "greet('Pratik')"
   ]
  },
  {
   "cell_type": "code",
   "execution_count": null,
   "id": "c32b3068",
   "metadata": {},
   "outputs": [
    {
     "name": "stdout",
     "output_type": "stream",
     "text": [
      "1\n",
      "2\n",
      "3\n",
      "4\n",
      "5\n",
      "6\n"
     ]
    }
   ],
   "source": [
    "## Variable length argument\n",
    "## position and keyword arguments\n",
    "\n",
    "def print_numbers(*args):  # this converts individual arguments into list\n",
    "    # args = [1, 2, 3, 4, 5, 6]\n",
    "    for i in args:         # this also called positional arguments\n",
    "        print(i)\n",
    "\n",
    "print_numbers(1, 2, 3, 4, 5, 6)\n"
   ]
  },
  {
   "cell_type": "code",
   "execution_count": null,
   "id": "2072a2a4",
   "metadata": {},
   "outputs": [
    {
     "name": "stdout",
     "output_type": "stream",
     "text": [
      "name:pratik\n",
      "age:20\n"
     ]
    }
   ],
   "source": [
    "## Keyword arguments\n",
    "def print_details(**kwargs): # this converts arguments into key-value pair\n",
    "    # kwargs = {'name':'pratik', 'age':20}\n",
    "    for key,value in kwargs.items():\n",
    "        print(f\"{key}:{value}\")\n",
    "\n",
    "print_details(name=\"pratik\", age=20) # this converts into dictionary\n",
    "\n",
    "    "
   ]
  },
  {
   "cell_type": "code",
   "execution_count": 11,
   "id": "14dc0b9d",
   "metadata": {},
   "outputs": [
    {
     "name": "stdout",
     "output_type": "stream",
     "text": [
      "1\n",
      "2\n",
      "34\n",
      "4\n",
      "name:hagshbasb\n"
     ]
    }
   ],
   "source": [
    "def print_combine(*args, **kwargs):\n",
    "    for i in args:\n",
    "        print(i)\n",
    "\n",
    "    for key, value in kwargs.items():\n",
    "        print(f\"{key}:{value}\")\n",
    "\n",
    "print_combine(1, 2, 34, 4, name=\"hagshbasb\")"
   ]
  },
  {
   "cell_type": "code",
   "execution_count": 19,
   "id": "d893dcc9",
   "metadata": {},
   "outputs": [
    {
     "name": "stdout",
     "output_type": "stream",
     "text": [
      "17\n"
     ]
    }
   ],
   "source": [
    "## Exmples\n",
    "## 1. password strength checker\n",
    "\n",
    "# any() function return true if at leat one present as per condition\n",
    "def password_checker(password):\n",
    "    if(len(password) < 8):\n",
    "        return False\n",
    "    if not any( char.isdigit() for char in password ): # if no any digit then this True and return false\n",
    "        return False\n",
    "    if not any( char.islower() for char in password ): # if no any lower char then this True and return false\n",
    "        return False\n",
    "    if not any( char.isupper() for char in password ): # # if no any upper char then this True and return false\n",
    "        return False\n",
    "    if not any( char in '@#$%&*!_+' for char in password ):\n",
    "        return False\n",
    "    else:\n",
    "        return True\n",
    "    \n",
    "\n",
    "# password_checker('qwqWw2@2@')\n",
    "\n",
    "\n",
    "## 2. Calculate cart total cost\n",
    "cart = [\n",
    "    {'product': 'Apple', \"price\":2, \"quantity\":4},\n",
    "    {'product': 'Banana', \"price\":1, \"quantity\":5},\n",
    "    {'product': 'Kiwi', \"price\":4, \"quantity\":1},\n",
    "]\n",
    "\n",
    "def total_cost_calcutor(items):\n",
    "    total = 0\n",
    "    for i in items:\n",
    "        total += i['price']*i['quantity']\n",
    "    \n",
    "    print(total)\n",
    "\n",
    "\n",
    "total_cost_calcutor(cart)\n",
    "\n",
    "\n",
    "\n",
    "    \n"
   ]
  },
  {
   "cell_type": "markdown",
   "id": "e8b818e8",
   "metadata": {},
   "source": [
    "#### Lambda functions\n",
    "-- lambda is a keyword used to create small, anonymous functions, also known as lambda functions.                                                                      \n",
    "-- These functions are anonymous because they do not have a formal name assigned to them using the def keyword.                                                        \n",
    "-- They can only contain a single expression, which is implicitly returned as the function's result.                                                                   \n",
    "-- They cannot contain statements like if, for, while, etc."
   ]
  },
  {
   "cell_type": "code",
   "execution_count": 20,
   "id": "c8e10f6b",
   "metadata": {},
   "outputs": [
    {
     "data": {
      "text/plain": [
       "3"
      ]
     },
     "execution_count": 20,
     "metadata": {},
     "output_type": "execute_result"
    }
   ],
   "source": [
    "def add(a,b):\n",
    "    return a+b\n",
    "\n",
    "# instead of this you can use lambda function\n",
    "add_1 = lambda a,b: a+b\n",
    "add_1(1, 2)"
   ]
  },
  {
   "cell_type": "markdown",
   "id": "e7582137",
   "metadata": {},
   "source": [
    "### map\n",
    "-- The map() built-in function: This function applies a given function to each item of an iterable (like a list, tuple, or string, dictionary) and                  \n",
    "-- returns an iterator that yields the results. ( it return map object). So you need to use list class to convert map into list                                     \n",
    "-- It is commonly used for transforming data within an iterable without explicitly writing a for loop.                                                              "
   ]
  },
  {
   "cell_type": "code",
   "execution_count": 28,
   "id": "51bc0bf4",
   "metadata": {},
   "outputs": [
    {
     "data": {
      "text/plain": [
       "['pratik', 'kasnks']"
      ]
     },
     "execution_count": 28,
     "metadata": {},
     "output_type": "execute_result"
    }
   ],
   "source": [
    "# on list\n",
    "list(map((lambda x: x**2), [1, 2, 3, 4])) # it is same as js array.map() but it take function and array as argument\n",
    "\n",
    "# on dict\n",
    "list(map((lambda x: x['name']), [{'name':'pratik'}, {'name':'kasnks'}]))"
   ]
  },
  {
   "cell_type": "code",
   "execution_count": null,
   "id": "92adaba5",
   "metadata": {},
   "outputs": [
    {
     "data": {
      "text/plain": [
       "[4, 4, 9]"
      ]
     },
     "execution_count": 25,
     "metadata": {},
     "output_type": "execute_result"
    }
   ],
   "source": [
    "# Map using multiple iterable\n",
    "\n",
    "# on list\n",
    "list(map((lambda x, y: x*y), [1, 2, 3],[4, 2, 3])) # it takes each iterables both same index value at time and it passed to function"
   ]
  },
  {
   "cell_type": "markdown",
   "id": "44c11346",
   "metadata": {},
   "source": [
    "### Filter \n",
    "-- filter() function in Python is a built-in function used to construct an iterator from elements of an iterable for which a specific function returns True.           \n",
    "-- It effectively \"filters out\" elements that do not satisfy a given condition.                                                                                     \n",
    "-- And you can add multiple conditions in func"
   ]
  },
  {
   "cell_type": "code",
   "execution_count": 35,
   "id": "432d9143",
   "metadata": {},
   "outputs": [
    {
     "data": {
      "text/plain": [
       "[{'name': 'kasnks', 'age': 30}]"
      ]
     },
     "execution_count": 35,
     "metadata": {},
     "output_type": "execute_result"
    }
   ],
   "source": [
    "# this also same works as filter in js. Used to filter out ele those satisfies condition\n",
    "\n",
    "# on list\n",
    "list(filter(lambda x: x%2!=0, [1, 2, 3, 4, 5])) \n",
    "\n",
    "list(filter(lambda x: x%2==0 and x > 5, [1, 2, 3, 4, 5, 6, 7, 8, 9])) \n",
    "\n",
    "# on dict\n",
    "list(filter((lambda x: x['age'] > 25), [{'name':'pratik', 'age': 25}, {'name':'kasnks', 'age': 30}]))"
   ]
  },
  {
   "cell_type": "code",
   "execution_count": null,
   "id": "75d07519",
   "metadata": {},
   "outputs": [],
   "source": []
  }
 ],
 "metadata": {
  "kernelspec": {
   "display_name": "base",
   "language": "python",
   "name": "python3"
  },
  "language_info": {
   "codemirror_mode": {
    "name": "ipython",
    "version": 3
   },
   "file_extension": ".py",
   "mimetype": "text/x-python",
   "name": "python",
   "nbconvert_exporter": "python",
   "pygments_lexer": "ipython3",
   "version": "3.12.7"
  }
 },
 "nbformat": 4,
 "nbformat_minor": 5
}
