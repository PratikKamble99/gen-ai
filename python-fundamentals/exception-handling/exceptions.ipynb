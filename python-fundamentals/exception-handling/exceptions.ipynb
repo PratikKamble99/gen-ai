{
 "cells": [
  {
   "cell_type": "markdown",
   "id": "6dd58215",
   "metadata": {},
   "source": [
    "### Exception handling\n"
   ]
  },
  {
   "cell_type": "code",
   "execution_count": null,
   "id": "2ff90889",
   "metadata": {},
   "outputs": [
    {
     "name": "stdout",
     "output_type": "stream",
     "text": [
      "b is not definned\n"
     ]
    }
   ],
   "source": [
    "try:\n",
    "    a=b\n",
    "except:\n",
    "    print('b is not definned')"
   ]
  },
  {
   "cell_type": "code",
   "execution_count": 6,
   "id": "b67d2b9c",
   "metadata": {},
   "outputs": [
    {
     "name": "stdout",
     "output_type": "stream",
     "text": [
      "Error: name 'b' is not defined\n"
     ]
    }
   ],
   "source": [
    "# exception handling with Exception class\n",
    "try:\n",
    "    a=b\n",
    "except NameError as ex:\n",
    "    print('Error:',ex)"
   ]
  },
  {
   "cell_type": "code",
   "execution_count": null,
   "id": "5c11c327",
   "metadata": {},
   "outputs": [
    {
     "name": "stdout",
     "output_type": "stream",
     "text": [
      "Error: division by zero\n"
     ]
    }
   ],
   "source": [
    "# exception handling with Exception class\n",
    "try:\n",
    "    a=1/0\n",
    "except ZeroDivisionError as ex:\n",
    "    print('Error:',ex)"
   ]
  },
  {
   "cell_type": "code",
   "execution_count": 7,
   "id": "02919adf",
   "metadata": {},
   "outputs": [
    {
     "name": "stdout",
     "output_type": "stream",
     "text": [
      "Error: name 'b' is not defined\n"
     ]
    }
   ],
   "source": [
    "# exception handling with Main Exception class\n",
    "try:\n",
    "    a=b\n",
    "    a=1/0\n",
    "except ZeroDivisionError as ex:\n",
    "    print('Error:',ex)\n",
    "except Exception as main_ex:\n",
    "    print('Error:', main_ex)"
   ]
  },
  {
   "cell_type": "code",
   "execution_count": null,
   "id": "43931bcb",
   "metadata": {},
   "outputs": [
    {
     "name": "stdout",
     "output_type": "stream",
     "text": [
      "Error: invalid literal for int() with base 10: 'psla'\n"
     ]
    }
   ],
   "source": [
    "\n",
    "try:\n",
    "    a=int(input('Enter number'))\n",
    "    x=10/a\n",
    "except ValueError as ex:\n",
    "    print('Error:',ex)\n",
    "except ZeroDivisionError as main_ex:\n",
    "    print('Error:', main_ex)"
   ]
  },
  {
   "cell_type": "code",
   "execution_count": 11,
   "id": "1fc7a2ba",
   "metadata": {},
   "outputs": [
    {
     "name": "stdout",
     "output_type": "stream",
     "text": [
      "Error: invalid literal for int() with base 10: '23w'\n"
     ]
    }
   ],
   "source": [
    "# try, except, else block\n",
    "try:\n",
    "    a=int(input('Enter number'))\n",
    "    x=10/a\n",
    "except ValueError as ex:\n",
    "    print('Error:',ex)\n",
    "except ZeroDivisionError as zero_ex:\n",
    "    print('Error:', zero_ex)\n",
    "except Exception as main_ex:\n",
    "    print('Error:', main_ex)\n",
    "else:\n",
    "    # this will run if no any error occur\n",
    "    print(f\"result is {x}\")"
   ]
  },
  {
   "cell_type": "code",
   "execution_count": 14,
   "id": "6609ac6b",
   "metadata": {},
   "outputs": [
    {
     "name": "stdout",
     "output_type": "stream",
     "text": [
      "result is 1.0\n",
      "This runs every time\n"
     ]
    }
   ],
   "source": [
    "# try, except, else, finally block\n",
    "try:\n",
    "    a=int(input('Enter number'))\n",
    "    x=10/a\n",
    "except ValueError as ex:\n",
    "    print('Error:',ex)\n",
    "except ZeroDivisionError as zero_ex:\n",
    "    print('Error:', zero_ex)\n",
    "except Exception as main_ex:\n",
    "    print('Error:', main_ex)\n",
    "else:\n",
    "    # this will run if no any error occur\n",
    "    print(f\"result is {x}\")\n",
    "finally:\n",
    "    print('This runs every time')"
   ]
  },
  {
   "cell_type": "code",
   "execution_count": 29,
   "id": "7f124d34",
   "metadata": {},
   "outputs": [
    {
     "name": "stdout",
     "output_type": "stream",
     "text": [
      "Error: [Errno 2] No such file or directory: 'examplwe.txt'\n"
     ]
    }
   ],
   "source": [
    "# file handling and xception handling\n",
    "# file = None  # define file beforehand\n",
    "try:\n",
    "    file=open('examplwe.txt', 'r')\n",
    "    content=file.read()\n",
    "    print(content)\n",
    "\n",
    "except FileNotFoundError as ex:\n",
    "    print('Error:',ex)\n",
    "\n",
    "finally:\n",
    "    if(file in locals() or not file.closed):\n",
    "        file.close()\n",
    "        print('file closed')"
   ]
  },
  {
   "cell_type": "code",
   "execution_count": null,
   "id": "c04a8beb",
   "metadata": {},
   "outputs": [],
   "source": []
  },
  {
   "cell_type": "code",
   "execution_count": null,
   "id": "f0124bdf",
   "metadata": {},
   "outputs": [],
   "source": []
  }
 ],
 "metadata": {
  "kernelspec": {
   "display_name": "venv",
   "language": "python",
   "name": "python3"
  },
  "language_info": {
   "codemirror_mode": {
    "name": "ipython",
    "version": 3
   },
   "file_extension": ".py",
   "mimetype": "text/x-python",
   "name": "python",
   "nbconvert_exporter": "python",
   "pygments_lexer": "ipython3",
   "version": "3.11.13"
  }
 },
 "nbformat": 4,
 "nbformat_minor": 5
}
