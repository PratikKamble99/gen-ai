{
 "cells": [
  {
   "cell_type": "markdown",
   "id": "a54afaa4",
   "metadata": {},
   "source": [
    "### Inheritance\n",
    "Allows class to inherite ttribute and methos of another class"
   ]
  },
  {
   "cell_type": "code",
   "execution_count": 2,
   "id": "2bdc1c83",
   "metadata": {},
   "outputs": [
    {
     "name": "stdout",
     "output_type": "stream",
     "text": [
      "Person drives petrol car\n"
     ]
    }
   ],
   "source": [
    "class Car:\n",
    "    def __init__(self, windows, door, engine_type):\n",
    "        self.windows = windows\n",
    "        self.door = door\n",
    "        self.engine_type = engine_type\n",
    "\n",
    "    def drive(self):\n",
    "        print(f'Person drives {self.engine_type} car')\n",
    "\n",
    "tata = Car(4, 2, 'petrol')\n",
    "tata.drive()\n",
    "        "
   ]
  },
  {
   "cell_type": "code",
   "execution_count": null,
   "id": "50b13f48",
   "metadata": {},
   "outputs": [
    {
     "name": "stdout",
     "output_type": "stream",
     "text": [
      "Person drives electric car\n",
      "Car support self driving: True\n"
     ]
    }
   ],
   "source": [
    "## Single inheritance\n",
    "class Tesla(Car): # inheriting parent class\n",
    "    def __init__(self, windows, door, engine_type, is_self_driving):\n",
    "        super().__init__(windows, door, engine_type) # call pareny class cntructor and pass arguments\n",
    "        self.is_self_driving = is_self_driving\n",
    "\n",
    "    def selfdriving(self):\n",
    "        print(f\"Car support self driving: {self.is_self_driving}\")\n",
    "\n",
    "car1 = Tesla(4, 2, 'electric', True)\n",
    "\n",
    "car1.drive()\n",
    "car1.selfdriving()\n",
    "\n",
    "dir(car1) # will print all methods and variables of object\n"
   ]
  },
  {
   "cell_type": "code",
   "execution_count": null,
   "id": "5435cc18",
   "metadata": {},
   "outputs": [
    {
     "name": "stdout",
     "output_type": "stream",
     "text": [
      "Sub class must implement this method\n",
      "pratik\n"
     ]
    }
   ],
   "source": [
    "# Multiple inheritance\n",
    "class Animal:\n",
    "    def __init__(self, name):\n",
    "        self.name= name\n",
    "    \n",
    "    def speaks(self):\n",
    "        print('Sub class must implement this method')\n",
    "\n",
    "class Pet:\n",
    "    def __init__(self, owner):\n",
    "        self.owner = owner\n",
    "    \n",
    "class Dog(Animal, Pet):\n",
    "    def __init__(self, name, owner):\n",
    "        Animal.__init__(self,name)\n",
    "        Pet.__init__(self,owner)\n",
    "\n",
    "    def speaks(self):\n",
    "        # return super().speaks()\n",
    "        print(f'{self.name} says woof')\n",
    "\n",
    "buddy = Dog('buddy', \"pratik\")\n",
    "\n",
    "buddy.speaks()\n",
    "print(buddy.owner)"
   ]
  },
  {
   "cell_type": "code",
   "execution_count": null,
   "id": "75bb75ab",
   "metadata": {},
   "outputs": [],
   "source": []
  }
 ],
 "metadata": {
  "kernelspec": {
   "display_name": "venv",
   "language": "python",
   "name": "python3"
  },
  "language_info": {
   "codemirror_mode": {
    "name": "ipython",
    "version": 3
   },
   "file_extension": ".py",
   "mimetype": "text/x-python",
   "name": "python",
   "nbconvert_exporter": "python",
   "pygments_lexer": "ipython3",
   "version": "3.11.13"
  }
 },
 "nbformat": 4,
 "nbformat_minor": 5
}
