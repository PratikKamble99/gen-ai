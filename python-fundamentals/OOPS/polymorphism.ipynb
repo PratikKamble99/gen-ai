{
 "cells": [
  {
   "cell_type": "markdown",
   "id": "7fca2f48",
   "metadata": {},
   "source": [
    "### Polymorphism\n",
    "It provides way to erform single action in differnt forms.\n",
    "Polymorphism typically achieved with method overriding and interface"
   ]
  },
  {
   "cell_type": "markdown",
   "id": "6387d390",
   "metadata": {},
   "source": []
  },
  {
   "cell_type": "code",
   "execution_count": 2,
   "id": "0b7768ba",
   "metadata": {},
   "outputs": [
    {
     "name": "stdout",
     "output_type": "stream",
     "text": [
      "Woof!\n",
      "Meow!\n",
      "Woof!\n"
     ]
    }
   ],
   "source": [
    "# Base class\n",
    "class Animal:\n",
    "    def __init__(self):\n",
    "        pass\n",
    "\n",
    "    def speaks(self):\n",
    "        print('Animal sound')\n",
    "\n",
    "# derived class 1\n",
    "class Dog(Animal):\n",
    "    def __init__(self):\n",
    "        pass\n",
    "\n",
    "    def speaks(self):\n",
    "        print('Woof!')\n",
    "\n",
    "# derived class 2\n",
    "class Cat(Animal):\n",
    "    def __init__(self):\n",
    "        pass\n",
    "\n",
    "    def speaks(self):\n",
    "        print('Meow!')\n",
    "\n",
    "dog = Dog()\n",
    "dog.speaks()\n",
    "\n",
    "cat = Cat()\n",
    "cat.speaks()\n",
    "\n",
    "def animal_speaks(animal):\n",
    "    animal.speaks()\n",
    "\n",
    "animal_speaks(dog)"
   ]
  },
  {
   "cell_type": "markdown",
   "id": "c1fe4199",
   "metadata": {},
   "source": [
    "#### polymorphism with abstract methdods\n",
    "An abstract method is a method that has no implementation in the base class and must be implemented by any subclass.\n",
    "It is defined using the @abstractmethod decorator from Python’s abc (Abstract Base Classes) module."
   ]
  },
  {
   "cell_type": "code",
   "execution_count": null,
   "id": "c46c484a",
   "metadata": {},
   "outputs": [
    {
     "ename": "TypeError",
     "evalue": "Can't instantiate abstract class MoterCycle with abstract method start_engine",
     "output_type": "error",
     "traceback": [
      "\u001b[31m---------------------------------------------------------------------------\u001b[39m",
      "\u001b[31mTypeError\u001b[39m                                 Traceback (most recent call last)",
      "\u001b[36mCell\u001b[39m\u001b[36m \u001b[39m\u001b[32mIn[9]\u001b[39m\u001b[32m, line 20\u001b[39m\n\u001b[32m     16\u001b[39m     \u001b[38;5;28;01mpass\u001b[39;00m\n\u001b[32m     19\u001b[39m car = Car()\n\u001b[32m---> \u001b[39m\u001b[32m20\u001b[39m moterCycle = \u001b[43mMoterCycle\u001b[49m\u001b[43m(\u001b[49m\u001b[43m)\u001b[49m\n\u001b[32m     22\u001b[39m car.start_engine()\n\u001b[32m     23\u001b[39m moterCycle.start_engine()\n",
      "\u001b[31mTypeError\u001b[39m: Can't instantiate abstract class MoterCycle with abstract method start_engine"
     ]
    }
   ],
   "source": [
    "from abc import ABC, abstractmethod \n",
    "\n",
    "# base class\n",
    "class Vehical(ABC):\n",
    "    @abstractmethod\n",
    "    def start_engine(self): # this method must be implenet in derived class\n",
    "        pass\n",
    "\n",
    "class Car(Vehical):\n",
    "    def start_engine(self):\n",
    "        print('car engine started')\n",
    "\n",
    "class MoterCycle(Vehical):\n",
    "    # def start_engine(self):\n",
    "    #     print('motercycle engine started')\n",
    "    pass\n",
    "\n",
    "\n",
    "car = Car()\n",
    "moterCycle = MoterCycle() # This will throw error: Can't instantiate abstract class MoterCycle with abstract method start_engine\n",
    "\n",
    "car.start_engine()\n",
    "moterCycle.start_engine()"
   ]
  },
  {
   "cell_type": "code",
   "execution_count": null,
   "id": "b89bb04a",
   "metadata": {},
   "outputs": [],
   "source": []
  }
 ],
 "metadata": {
  "kernelspec": {
   "display_name": "venv",
   "language": "python",
   "name": "python3"
  },
  "language_info": {
   "codemirror_mode": {
    "name": "ipython",
    "version": 3
   },
   "file_extension": ".py",
   "mimetype": "text/x-python",
   "name": "python",
   "nbconvert_exporter": "python",
   "pygments_lexer": "ipython3",
   "version": "3.11.13"
  }
 },
 "nbformat": 4,
 "nbformat_minor": 5
}
