{
 "cells": [
  {
   "cell_type": "markdown",
   "id": "dbceee19",
   "metadata": {},
   "source": [
    "### OOPS\n"
   ]
  },
  {
   "cell_type": "code",
   "execution_count": 5,
   "id": "74850dd8",
   "metadata": {},
   "outputs": [
    {
     "name": "stdout",
     "output_type": "stream",
     "text": [
      "3\n",
      "Rocky\n",
      "Dog Rocky says woof\n"
     ]
    }
   ],
   "source": [
    "# Class: Class is bluprint of object\n",
    "class Dog: # Crating class\n",
    "    def __init__(self,name, age): # This is contructor --> gets call when new object created\n",
    "        ## self: refers to the current instance of the class.\n",
    "        # It is used to initialize the object’s attributes when it is created\n",
    "        self.name = name # class variables\n",
    "        self.age = age\n",
    "\n",
    "    def bark(self): # object method\n",
    "        print(f\"Dog {self.name} says woof\")\n",
    "\n",
    "bulldog = Dog(\"Rocky\", 3) # Creating object of Class\n",
    "print(bulldog.age)\n",
    "print(bulldog.name)\n",
    "bulldog.bark() "
   ]
  },
  {
   "cell_type": "code",
   "execution_count": null,
   "id": "3d6dcfdc",
   "metadata": {},
   "outputs": [],
   "source": []
  }
 ],
 "metadata": {
  "kernelspec": {
   "display_name": "venv",
   "language": "python",
   "name": "python3"
  },
  "language_info": {
   "codemirror_mode": {
    "name": "ipython",
    "version": 3
   },
   "file_extension": ".py",
   "mimetype": "text/x-python",
   "name": "python",
   "nbconvert_exporter": "python",
   "pygments_lexer": "ipython3",
   "version": "3.11.13"
  }
 },
 "nbformat": 4,
 "nbformat_minor": 5
}
