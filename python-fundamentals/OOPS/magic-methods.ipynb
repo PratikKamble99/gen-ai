{
 "cells": [
  {
   "cell_type": "markdown",
   "id": "7d5ced50",
   "metadata": {},
   "source": [
    "## Magic methods\n",
    "Magic methods (also known as dunder methods, short for double underscore) are special methods that let you define how objects of your class behave with built-in Python operations."
   ]
  },
  {
   "cell_type": "code",
   "execution_count": 1,
   "id": "c7152179",
   "metadata": {},
   "outputs": [
    {
     "data": {
      "text/plain": [
       "'\\n    They start and end with double underscores: __init__, __str__, __len__, __add__, etc.\\n'"
      ]
     },
     "execution_count": 1,
     "metadata": {},
     "output_type": "execute_result"
    }
   ],
   "source": [
    "'''\n",
    "    They start and end with double underscores: __init__, __str__, __len__, __add__, etc.\n",
    "'''"
   ]
  },
  {
   "cell_type": "code",
   "execution_count": null,
   "id": "7549eee5",
   "metadata": {},
   "outputs": [
    {
     "name": "stdout",
     "output_type": "stream",
     "text": [
      "<__main__.Person object at 0x10463ef10>\n"
     ]
    }
   ],
   "source": [
    "# badic methods\n",
    "class Person:\n",
    "    def __init__(self, name):\n",
    "        self.name = name\n",
    "\n",
    "p = Person(\"Alice\")\n",
    "\n",
    "# Called by str(obj) or print(obj).\n",
    "print(p) ## this gets print from __str__(): converts object into string"
   ]
  },
  {
   "cell_type": "code",
   "execution_count": null,
   "id": "cdac22e8",
   "metadata": {},
   "outputs": [
    {
     "name": "stdout",
     "output_type": "stream",
     "text": [
      "Person named Bob\n"
     ]
    }
   ],
   "source": [
    "class Person:\n",
    "    def __init__(self, name):\n",
    "        self.name = name\n",
    "\n",
    "    def __str__(self):\n",
    "        return f\"Person named {self.name}\"\n",
    "\n",
    "print(Person(\"Bob\"))  # Person named Bob"
   ]
  },
  {
   "cell_type": "code",
   "execution_count": null,
   "id": "d5cfe6be",
   "metadata": {},
   "outputs": [],
   "source": []
  }
 ],
 "metadata": {
  "kernelspec": {
   "display_name": "venv",
   "language": "python",
   "name": "python3"
  },
  "language_info": {
   "codemirror_mode": {
    "name": "ipython",
    "version": 3
   },
   "file_extension": ".py",
   "mimetype": "text/x-python",
   "name": "python",
   "nbconvert_exporter": "python",
   "pygments_lexer": "ipython3",
   "version": "3.11.13"
  }
 },
 "nbformat": 4,
 "nbformat_minor": 5
}
