{
 "cells": [
  {
   "cell_type": "markdown",
   "id": "37924dfe",
   "metadata": {},
   "source": [
    "### Abstraction\n",
    "Abstraction is the concept of hiding internal (complex) implementation details and showing only essential features to the user."
   ]
  },
  {
   "cell_type": "code",
   "execution_count": 1,
   "id": "012c86f2",
   "metadata": {},
   "outputs": [],
   "source": [
    "from abc import ABC, abstractmethod\n",
    "\n",
    "class Vehicle(ABC):  # Abstract class\n",
    "    @abstractmethod\n",
    "    def start_engine(self):\n",
    "        pass\n",
    "\n",
    "    @abstractmethod\n",
    "    def stop_engine(self):\n",
    "        pass\n",
    "\n",
    "# Car is one specific implementation\n",
    "class Car(Vehicle):\n",
    "    def start_engine(self):\n",
    "        print(\"Starting petrol car engine...\")\n",
    "\n",
    "    def stop_engine(self):\n",
    "        print(\"Stopping petrol car engine...\")\n",
    "\n",
    "# ElectricCar is another\n",
    "class ElectricCar(Vehicle):\n",
    "    def start_engine(self):\n",
    "        print(\"Starting electric motor...\")\n",
    "\n",
    "    def stop_engine(self):\n",
    "        print(\"Stopping electric motor...\")\n",
    "\n",
    "# User code (abstracted from implementation details)\n",
    "def drive(vehicle: Vehicle):\n",
    "    vehicle.start_engine()\n",
    "    print(\"Driving...\")\n",
    "    vehicle.stop_engine()\n"
   ]
  },
  {
   "cell_type": "code",
   "execution_count": null,
   "id": "b00b4365",
   "metadata": {},
   "outputs": [],
   "source": []
  }
 ],
 "metadata": {
  "kernelspec": {
   "display_name": "venv",
   "language": "python",
   "name": "python3"
  },
  "language_info": {
   "codemirror_mode": {
    "name": "ipython",
    "version": 3
   },
   "file_extension": ".py",
   "mimetype": "text/x-python",
   "name": "python",
   "nbconvert_exporter": "python",
   "pygments_lexer": "ipython3",
   "version": "3.11.13"
  }
 },
 "nbformat": 4,
 "nbformat_minor": 5
}
