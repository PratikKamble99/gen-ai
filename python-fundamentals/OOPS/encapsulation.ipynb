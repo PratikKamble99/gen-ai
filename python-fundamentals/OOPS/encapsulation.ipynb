{
 "cells": [
  {
   "cell_type": "markdown",
   "id": "fe09a2a1",
   "metadata": {},
   "source": [
    "### Encapsulation\n",
    "concept of wrapping data (variables) and methods (functions) together as single unit.\n",
    "It restricts direct access and modification data. ( missuse of data )"
   ]
  },
  {
   "cell_type": "code",
   "execution_count": 3,
   "id": "a4e33f40",
   "metadata": {},
   "outputs": [
    {
     "name": "stdout",
     "output_type": "stream",
     "text": [
      "Pratik\n",
      "26\n"
     ]
    }
   ],
   "source": [
    "# Encapsulation with getter and setter\n",
    "# Public, private, protected variables\n",
    "\n",
    "class Person:\n",
    "    def __init__(self, name, age, salary):\n",
    "        self.name = name # public variable - can acces from anywhere\n",
    "        self._age = age # protected variable - can acces from itself and derived class only\n",
    "        self.__salary = salary # private variable - can acces from in same class only\n",
    "\n",
    "class Employee(Person):\n",
    "    def __init__(self, name, age, salary):\n",
    "        super().__init__(name, age, salary)\n",
    "\n",
    "pratik = Person('Pratik', 25, 700000)\n",
    "print(pratik.name)\n",
    "# print(pratik._age) # get error\n",
    "# print(pratik.__salary) # get error\n",
    "\n",
    "rutik = Employee('Rutik', 26, 100000 )\n",
    "\n",
    "print(rutik._age) # will acces from subclass\n"
   ]
  },
  {
   "cell_type": "code",
   "execution_count": null,
   "id": "6bd66972",
   "metadata": {},
   "outputs": [
    {
     "name": "stdout",
     "output_type": "stream",
     "text": [
      "Pratik\n",
      "0\n"
     ]
    }
   ],
   "source": [
    "# Encapsulation with getter and setter\n",
    "class Person:\n",
    "    def __init__(self, name, salary):\n",
    "        self.__name = name \n",
    "        self.__salary = salary \n",
    "\n",
    "    def getName(self):\n",
    "        return self.__name\n",
    "    \n",
    "    def getSalary(self): # getter\n",
    "        return self.__salary\n",
    "    \n",
    "    def setSalary(self, new_salary): # setter\n",
    "        self.__salary = new_salary\n",
    "\n",
    "pratik = Person('Pratik', 2300000)\n",
    "\n",
    "print(pratik.getName())\n",
    "pratik.setSalary(0)\n",
    "print(pratik.getSalary())\n",
    "\n",
    "\n",
    "\n",
    "\n"
   ]
  },
  {
   "cell_type": "code",
   "execution_count": null,
   "id": "0626b9e1",
   "metadata": {},
   "outputs": [],
   "source": []
  }
 ],
 "metadata": {
  "kernelspec": {
   "display_name": "venv",
   "language": "python",
   "name": "python3"
  },
  "language_info": {
   "codemirror_mode": {
    "name": "ipython",
    "version": 3
   },
   "file_extension": ".py",
   "mimetype": "text/x-python",
   "name": "python",
   "nbconvert_exporter": "python",
   "pygments_lexer": "ipython3",
   "version": "3.11.13"
  }
 },
 "nbformat": 4,
 "nbformat_minor": 5
}
