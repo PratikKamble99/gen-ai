{
 "cells": [
  {
   "cell_type": "markdown",
   "id": "bc8c0a7f",
   "metadata": {},
   "source": [
    "## # Operator overloading\n",
    "Operator Overloading allows you to redefine how *operators (+, -, , ==, etc.) behave for your custom classes.\n",
    "\n",
    "By default, operators work only on built-in types (like int, str, list), but with operator overloading, \n",
    "you can extend this behavior to your own objects."
   ]
  },
  {
   "cell_type": "code",
   "execution_count": 3,
   "id": "a290403a",
   "metadata": {},
   "outputs": [
    {
     "data": {
      "text/plain": [
       "' List of Common Magic Methods for Operator Overloading\\n    Operator\\tMethod Name\\tExample Usage\\n    +\\t__add__\\ta + b\\n    -\\t__sub__\\ta - b\\n    *\\t__mul__\\ta * b\\n    /\\t__truediv__\\ta / b\\n    //\\t__floordiv__\\ta // b\\n    %\\t__mod__\\ta % b\\n    **\\t__pow__\\ta ** b\\n    ==\\t__eq__\\ta == b\\n    !=\\t__ne__\\ta != b\\n    <\\t__lt__\\ta < b\\n    <=\\t__le__\\ta <= b\\n    >\\t__gt__\\ta > b\\n    >=\\t__ge__\\ta >= b \\n'"
      ]
     },
     "execution_count": 3,
     "metadata": {},
     "output_type": "execute_result"
    }
   ],
   "source": [
    "''' List of Common Magic Methods for Operator Overloading\n",
    "    Operator\tMethod Name\tExample Usage\n",
    "    +\t__add__\ta + b\n",
    "    -\t__sub__\ta - b\n",
    "    *\t__mul__\ta * b\n",
    "    /\t__truediv__\ta / b\n",
    "    //\t__floordiv__\ta // b\n",
    "    %\t__mod__\ta % b\n",
    "    **\t__pow__\ta ** b\n",
    "    ==\t__eq__\ta == b\n",
    "    !=\t__ne__\ta != b\n",
    "    <\t__lt__\ta < b\n",
    "    <=\t__le__\ta <= b\n",
    "    >\t__gt__\ta > b\n",
    "    >=\t__ge__\ta >= b \n",
    "'''"
   ]
  },
  {
   "cell_type": "code",
   "execution_count": 1,
   "id": "f2d8920e",
   "metadata": {},
   "outputs": [
    {
     "name": "stdout",
     "output_type": "stream",
     "text": [
      "(6, 8)\n"
     ]
    }
   ],
   "source": [
    "class Point:\n",
    "    def __init__(self, x, y):\n",
    "        self.x = x\n",
    "        self.y = y\n",
    "\n",
    "    def __add__(self, other):  # Overloads +\n",
    "        return Point(self.x + other.x, self.y + other.y)\n",
    "\n",
    "    def __str__(self):\n",
    "        return f\"({self.x}, {self.y})\"\n",
    "\n",
    "p1 = Point(2, 3)\n",
    "p2 = Point(4, 5)\n",
    "p3 = p1 + p2  # Internally: p1.__add__(p2)\n",
    "\n",
    "print(p3)  # Output: (6, 8)\n"
   ]
  },
  {
   "cell_type": "markdown",
   "id": "8020c261",
   "metadata": {},
   "source": []
  }
 ],
 "metadata": {
  "kernelspec": {
   "display_name": "venv",
   "language": "python",
   "name": "python3"
  },
  "language_info": {
   "codemirror_mode": {
    "name": "ipython",
    "version": 3
   },
   "file_extension": ".py",
   "mimetype": "text/x-python",
   "name": "python",
   "nbconvert_exporter": "python",
   "pygments_lexer": "ipython3",
   "version": "3.11.13"
  }
 },
 "nbformat": 4,
 "nbformat_minor": 5
}
