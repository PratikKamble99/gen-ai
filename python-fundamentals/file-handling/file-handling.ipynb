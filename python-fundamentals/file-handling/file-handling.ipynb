{
 "cells": [
  {
   "cell_type": "markdown",
   "id": "8814b83f",
   "metadata": {},
   "source": [
    "## File handling"
   ]
  },
  {
   "cell_type": "code",
   "execution_count": null,
   "id": "b19aeea5",
   "metadata": {},
   "outputs": [
    {
     "name": "stdout",
     "output_type": "stream",
     "text": [
      "Hello, My name is pratik\n",
      "I am 25 years old\n",
      "And I am software developer\n"
     ]
    }
   ],
   "source": [
    "with open('example.txt', mode='r') as file:\n",
    "    for line in file:\n",
    "        print(line.strip()) ## The method strip() is used to remove leading and trailing whitespace (spaces, tabs, newlines, etc.) from a string.\n",
    "\n"
   ]
  },
  {
   "cell_type": "code",
   "execution_count": 4,
   "id": "7f1ed968",
   "metadata": {},
   "outputs": [],
   "source": [
    "# Writing file ( overwriting)\n",
    "with open('example.txt','w') as file:\n",
    "    file.write('Hello world\\n')\n",
    "    file.write('This is new line')"
   ]
  },
  {
   "cell_type": "code",
   "execution_count": 5,
   "id": "e373cdf7",
   "metadata": {},
   "outputs": [],
   "source": [
    "# Writing file (Without overwriting --> it append new text in file)\n",
    "with open('example.txt','a') as file:\n",
    "    file.write('\\n Appended line')"
   ]
  },
  {
   "cell_type": "code",
   "execution_count": 6,
   "id": "717c39cc",
   "metadata": {},
   "outputs": [],
   "source": [
    "# writing lists\n",
    "list = ['line one\\n', 'line two\\n']\n",
    "\n",
    "with open('example.txt', 'a') as file:\n",
    "    file.writelines(list)"
   ]
  },
  {
   "cell_type": "code",
   "execution_count": null,
   "id": "aeef5ea7",
   "metadata": {},
   "outputs": [],
   "source": [
    "# Binary files ( .bin ): write\n",
    "data =  b'\\x00\\x01\\x02'\n",
    "with open('example.bin', 'wb') as file:\n",
    "    file.write(data)"
   ]
  },
  {
   "cell_type": "code",
   "execution_count": 13,
   "id": "dd129494",
   "metadata": {},
   "outputs": [
    {
     "name": "stdout",
     "output_type": "stream",
     "text": [
      "b'\\x00\\x01\\x02'\n"
     ]
    }
   ],
   "source": [
    "# Bianry files : read\n",
    "with open('example.bin','rb') as file:\n",
    "    for line in file:\n",
    "        print(line)"
   ]
  },
  {
   "cell_type": "code",
   "execution_count": null,
   "id": "6c9db72b",
   "metadata": {},
   "outputs": [
    {
     "name": "stdout",
     "output_type": "stream",
     "text": [
      "['Hello world\\n', 'This is new line\\n', ' Appended lineline one\\n', 'line two\\n']\n",
      "4\n",
      "11\n",
      "61\n"
     ]
    }
   ],
   "source": [
    "# count number of line, words and charactors in file\n",
    "with open('example.txt','r') as file:\n",
    "    lines = file.readlines()\n",
    "\n",
    "    line_count = len(lines) # return length of charactors in line\n",
    "    word_count = sum(len(line.split()) for line in lines)\n",
    "    chat_count = sum(len(line) for line in lines)\n",
    "    print(line_count)   \n",
    "    print(word_count)\n",
    "    print(chat_count)\n",
    "        \n",
    "\n"
   ]
  },
  {
   "cell_type": "markdown",
   "id": "98b8e095",
   "metadata": {},
   "source": [
    "### w+: Read + Write – allows both reading and writing.\n",
    "\n",
    "#### Important Behavior of w+:\n",
    "If the file already exists, it is emptied when opened.\n",
    "\n",
    "If the file doesn’t exist, it will be created.\n",
    "\n",
    "The file pointer starts at the beginning, so you need to manually manage it (e.g. use .seek(0) if you want to read after writing)."
   ]
  },
  {
   "cell_type": "code",
   "execution_count": 36,
   "id": "8ab51e5d",
   "metadata": {},
   "outputs": [
    {
     "name": "stdout",
     "output_type": "stream",
     "text": [
      "Hello from Pratik\n",
      "this is new line\n"
     ]
    }
   ],
   "source": [
    "with open('example.txt','w+') as file:\n",
    "    file.write('Hello from Pratik\\n')\n",
    "    file.write('this is new line')\n",
    "\n",
    "    # Move the cursor back to the beginning\n",
    "    file.seek(0)\n",
    "\n",
    "    content = file.read()\n",
    "\n",
    "    print(content)"
   ]
  },
  {
   "cell_type": "code",
   "execution_count": 37,
   "id": "e8c86b72",
   "metadata": {},
   "outputs": [],
   "source": [
    "# create new directory\n",
    "import os\n",
    "\n",
    "dir = 'package'\n",
    "\n",
    "os.mkdir(dir)\n"
   ]
  },
  {
   "cell_type": "code",
   "execution_count": 40,
   "id": "7e159a28",
   "metadata": {},
   "outputs": [
    {
     "name": "stdout",
     "output_type": "stream",
     "text": [
      "['example.bin', 'example.txt', 'package', 'file-handling.ipynb']\n"
     ]
    }
   ],
   "source": [
    "# Listing files and directories\n",
    "list = os.listdir('./') # '.' means list current folder \n",
    "print(list)"
   ]
  },
  {
   "cell_type": "code",
   "execution_count": 52,
   "id": "41f8ccf8",
   "metadata": {},
   "outputs": [
    {
     "name": "stdout",
     "output_type": "stream",
     "text": [
      "folder/exmaple.txt\n",
      "/Users/Pankaj-K/Projects/python/gen-ai/python-fundamentals/file-handling/folder/exmaple.txt\n",
      "/Users/Pankaj-K/Projects/python/gen-ai/python-fundamentals/file-handling/exmaple.txt\n"
     ]
    }
   ],
   "source": [
    "# JOINING PATHS\n",
    "folder = 'folder'\n",
    "file = 'exmaple.txt'\n",
    "\n",
    "# A relative path is relative to the current working directory (i.e., the folder where your script is running).\n",
    "relative_path = os.path.join(folder, file)\n",
    "print(relative_path)\n",
    "\n",
    "\n",
    "absolute_path = os.path.join(os.getcwd(),folder, file)\n",
    "print(absolute_path)\n",
    "\n",
    "# get absolute path - method 2\n",
    "abs_path = os.path.abspath(file)\n",
    "print(abs_path)"
   ]
  },
  {
   "cell_type": "code",
   "execution_count": 47,
   "id": "7868c0e1",
   "metadata": {},
   "outputs": [
    {
     "name": "stdout",
     "output_type": "stream",
     "text": [
      "Path logging.txt dosen't exist\n"
     ]
    }
   ],
   "source": [
    "# check if path exist or not\n",
    "path = 'logging.txt'\n",
    "\n",
    "if(os.path.exists(path)):\n",
    "    print(f\"Path {path} exist\")\n",
    "else:\n",
    "    print(f\"Path {path} dosen't exist\")\n"
   ]
  },
  {
   "cell_type": "code",
   "execution_count": 50,
   "id": "0a3bd32b",
   "metadata": {},
   "outputs": [
    {
     "name": "stdout",
     "output_type": "stream",
     "text": [
      "Path package is dir\n"
     ]
    }
   ],
   "source": [
    "# check if path is file or directory \n",
    "path = 'package'\n",
    "\n",
    "if(os.path.isfile(path)):\n",
    "    print(f\"Path {path} is file\")\n",
    "elif(os.path.isdir(path)):\n",
    "    print(f\"Path {path} is dir\")\n",
    "else:\n",
    "    print(f\"Path {path} dosen't exist\")\n"
   ]
  },
  {
   "cell_type": "code",
   "execution_count": null,
   "id": "fae9098b",
   "metadata": {},
   "outputs": [],
   "source": [
    "# delete a file in Python\n",
    "import os\n",
    "os.remove(\"ChangedFile.csv\")\n",
    "print(\"File Removed!\")\n"
   ]
  }
 ],
 "metadata": {
  "kernelspec": {
   "display_name": "venv",
   "language": "python",
   "name": "python3"
  },
  "language_info": {
   "codemirror_mode": {
    "name": "ipython",
    "version": 3
   },
   "file_extension": ".py",
   "mimetype": "text/x-python",
   "name": "python",
   "nbconvert_exporter": "python",
   "pygments_lexer": "ipython3",
   "version": "3.11.13"
  }
 },
 "nbformat": 4,
 "nbformat_minor": 5
}
